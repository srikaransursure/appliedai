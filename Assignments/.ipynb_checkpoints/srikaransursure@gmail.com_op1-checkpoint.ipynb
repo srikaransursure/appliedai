{
 "cells": [
  {
   "cell_type": "markdown",
   "metadata": {},
   "source": [
    "### 1."
   ]
  },
  {
   "cell_type": "code",
   "execution_count": 9,
   "metadata": {},
   "outputs": [],
   "source": [
    "def multiply(num):\n",
    "    i=1\n",
    "    for i in range(1,11):\n",
    "        print(num*i)"
   ]
  },
  {
   "cell_type": "code",
   "execution_count": 10,
   "metadata": {},
   "outputs": [
    {
     "name": "stdout",
     "output_type": "stream",
     "text": [
      "10\n",
      "20\n",
      "30\n",
      "40\n",
      "50\n",
      "60\n",
      "70\n",
      "80\n",
      "90\n",
      "100\n"
     ]
    }
   ],
   "source": [
    "multiply(10)"
   ]
  },
  {
   "cell_type": "markdown",
   "metadata": {},
   "source": [
    "### 2"
   ]
  },
  {
   "cell_type": "code",
   "execution_count": 59,
   "metadata": {},
   "outputs": [],
   "source": [
    "def twinPrimes():\n",
    "    temp = 0\n",
    "    for i in range(3,1000,2):\n",
    "        isDiv = False\n",
    "        for j in range(2,i):\n",
    "            if(i%j==0):\n",
    "                isDiv = True\n",
    "        if(isDiv == False):\n",
    "           # print(i)\n",
    "            if((i-temp) == 2):\n",
    "                print(temp,i)\n",
    "            temp = i\n",
    "            "
   ]
  },
  {
   "cell_type": "code",
   "execution_count": 60,
   "metadata": {},
   "outputs": [
    {
     "name": "stdout",
     "output_type": "stream",
     "text": [
      "3 5\n",
      "5 7\n",
      "11 13\n",
      "17 19\n",
      "29 31\n",
      "41 43\n",
      "59 61\n",
      "71 73\n",
      "101 103\n",
      "107 109\n",
      "137 139\n",
      "149 151\n",
      "179 181\n",
      "191 193\n",
      "197 199\n",
      "227 229\n",
      "239 241\n",
      "269 271\n",
      "281 283\n",
      "311 313\n",
      "347 349\n",
      "419 421\n",
      "431 433\n",
      "461 463\n",
      "521 523\n",
      "569 571\n",
      "599 601\n",
      "617 619\n",
      "641 643\n",
      "659 661\n",
      "809 811\n",
      "821 823\n",
      "827 829\n",
      "857 859\n",
      "881 883\n"
     ]
    }
   ],
   "source": [
    "twinPrimes()"
   ]
  },
  {
   "cell_type": "markdown",
   "metadata": {},
   "source": [
    "### 3"
   ]
  },
  {
   "cell_type": "code",
   "execution_count": 73,
   "metadata": {},
   "outputs": [],
   "source": [
    "def factors(num):\n",
    "    for i in range(2,num):\n",
    "        while(num%i==0):\n",
    "            num = num/i\n",
    "            print(i)\n",
    "        "
   ]
  },
  {
   "cell_type": "code",
   "execution_count": 76,
   "metadata": {},
   "outputs": [
    {
     "name": "stdout",
     "output_type": "stream",
     "text": [
      "2\n",
      "2\n",
      "5\n",
      "5\n"
     ]
    }
   ],
   "source": [
    "factors(100)"
   ]
  },
  {
   "cell_type": "markdown",
   "metadata": {},
   "source": [
    "### 4"
   ]
  },
  {
   "cell_type": "code",
   "execution_count": 137,
   "metadata": {},
   "outputs": [],
   "source": [
    "\n",
    "def fact(num):\n",
    "    if (num == 1):\n",
    "        return(1)\n",
    "    else:\n",
    "        num = num * fact(num-1)\n",
    "\n",
    "    return(num)\n",
    "\n",
    "\n",
    "def perm(n,r):\n",
    "    res = fact(n)/fact(n-r)\n",
    "    return(int(res)) \n",
    "\n",
    "def comb(n,r):\n",
    "    res = perm(n,r)/fact(r)\n",
    "    return(int(res)) \n",
    "    "
   ]
  },
  {
   "cell_type": "code",
   "execution_count": 139,
   "metadata": {},
   "outputs": [
    {
     "name": "stdout",
     "output_type": "stream",
     "text": [
      "12\n",
      "6\n"
     ]
    }
   ],
   "source": [
    "print(perm(4,2))\n",
    "print(comb(4,2))"
   ]
  },
  {
   "cell_type": "markdown",
   "metadata": {},
   "source": [
    "### 5"
   ]
  },
  {
   "cell_type": "code",
   "execution_count": 191,
   "metadata": {},
   "outputs": [],
   "source": [
    "def dec2bin(num):\n",
    "    rem = []\n",
    "    while(num!=0):\n",
    "        rem.append(num % 2)\n",
    "        num = int(num/2)\n",
    "    rem.reverse()\n",
    "    \n",
    "    for ele in rem:\n",
    "        print(ele)"
   ]
  },
  {
   "cell_type": "code",
   "execution_count": 192,
   "metadata": {},
   "outputs": [
    {
     "name": "stdout",
     "output_type": "stream",
     "text": [
      "1\n",
      "0\n",
      "0\n",
      "0\n"
     ]
    }
   ],
   "source": [
    "dec2bin(8)"
   ]
  },
  {
   "cell_type": "markdown",
   "metadata": {},
   "source": [
    "### 6 rem"
   ]
  },
  {
   "cell_type": "code",
   "execution_count": 353,
   "metadata": {},
   "outputs": [],
   "source": [
    "def cubesum(num):\n",
    "    sum= 0\n",
    "    while(num != 0):\n",
    "        rem = num % 10\n",
    "        num = int(num/10)\n",
    "        sum = sum + rem ** 3\n",
    "    return(sum)\n",
    "    \n",
    "\n",
    "def printArmstrong(num):\n",
    "    for i in range(1,num):\n",
    "        if(i == cubesum(i)):\n",
    "            print(i)\n",
    "\n",
    "            \n",
    "def isArmstrong(num):\n",
    "    if(num == cubesum(num)):\n",
    "        print(num,\"is an Armstrong number\")\n",
    "    else:\n",
    "        print(num,\"is not an Armstrong number\")"
   ]
  },
  {
   "cell_type": "code",
   "execution_count": 360,
   "metadata": {},
   "outputs": [
    {
     "name": "stdout",
     "output_type": "stream",
     "text": [
      "1\n",
      "153\n",
      "370\n",
      "371\n",
      "407\n",
      "407 is an Armstrong number\n"
     ]
    }
   ],
   "source": [
    "cubesum(123)\n",
    "printArmstrong(1000)\n",
    "###\n",
    "isArmstrong(407)\n"
   ]
  },
  {
   "cell_type": "markdown",
   "metadata": {},
   "source": [
    "### 7"
   ]
  },
  {
   "cell_type": "code",
   "execution_count": 361,
   "metadata": {},
   "outputs": [],
   "source": [
    "def prodDigits(num):\n",
    "    prod = 1\n",
    "    while(num != 0):\n",
    "        rem = num % 10\n",
    "        num = int(num/10)\n",
    "        prod = prod * rem\n",
    "    return(prod)"
   ]
  },
  {
   "cell_type": "code",
   "execution_count": 220,
   "metadata": {},
   "outputs": [
    {
     "data": {
      "text/plain": [
       "10"
      ]
     },
     "execution_count": 220,
     "metadata": {},
     "output_type": "execute_result"
    }
   ],
   "source": [
    "prodDigits(125)"
   ]
  },
  {
   "cell_type": "markdown",
   "metadata": {},
   "source": [
    "### 8"
   ]
  },
  {
   "cell_type": "code",
   "execution_count": 226,
   "metadata": {},
   "outputs": [],
   "source": [
    "def MDR(num):\n",
    "    while((num % 10) != num):\n",
    "        num = prodDigits(num)\n",
    "    return(num)    "
   ]
  },
  {
   "cell_type": "code",
   "execution_count": 228,
   "metadata": {},
   "outputs": [
    {
     "data": {
      "text/plain": [
       "2"
      ]
     },
     "execution_count": 228,
     "metadata": {},
     "output_type": "execute_result"
    }
   ],
   "source": [
    "MDR(341)"
   ]
  },
  {
   "cell_type": "code",
   "execution_count": 231,
   "metadata": {},
   "outputs": [],
   "source": [
    "def MPersistence(num):\n",
    "    i=0\n",
    "    while((num % 10) != num):\n",
    "        num = prodDigits(num)\n",
    "        i = i+1\n",
    "    return(i)    "
   ]
  },
  {
   "cell_type": "code",
   "execution_count": 233,
   "metadata": {},
   "outputs": [
    {
     "data": {
      "text/plain": [
       "3"
      ]
     },
     "execution_count": 233,
     "metadata": {},
     "output_type": "execute_result"
    }
   ],
   "source": [
    "MPersistence(86)"
   ]
  },
  {
   "cell_type": "markdown",
   "metadata": {},
   "source": [
    "### 9"
   ]
  },
  {
   "cell_type": "code",
   "execution_count": 240,
   "metadata": {},
   "outputs": [],
   "source": [
    "def sumPdivisors(num):\n",
    "    lst = []\n",
    "    for i in range(1,num):\n",
    "        if(num % i == 0):\n",
    "            lst.append(i)\n",
    "    return(lst)        "
   ]
  },
  {
   "cell_type": "code",
   "execution_count": 252,
   "metadata": {},
   "outputs": [
    {
     "data": {
      "text/plain": [
       "[1, 2, 4, 7, 14]"
      ]
     },
     "execution_count": 252,
     "metadata": {},
     "output_type": "execute_result"
    }
   ],
   "source": [
    "sumPdivisors(28)"
   ]
  },
  {
   "cell_type": "markdown",
   "metadata": {},
   "source": [
    "### 10"
   ]
  },
  {
   "cell_type": "code",
   "execution_count": 253,
   "metadata": {},
   "outputs": [],
   "source": [
    "def perfect(num):\n",
    "    for i in range(1,num):\n",
    "        if(i == sum(sumPdivisors(i))):\n",
    "            print(i)"
   ]
  },
  {
   "cell_type": "code",
   "execution_count": 255,
   "metadata": {},
   "outputs": [
    {
     "name": "stdout",
     "output_type": "stream",
     "text": [
      "6\n",
      "28\n"
     ]
    }
   ],
   "source": [
    "perfect(50)"
   ]
  },
  {
   "cell_type": "markdown",
   "metadata": {},
   "source": [
    "### 11"
   ]
  },
  {
   "cell_type": "code",
   "execution_count": 282,
   "metadata": {},
   "outputs": [],
   "source": [
    "def amicable(num):\n",
    "    for i in range(1,num):\n",
    "        temp = sum(sumPdivisors(i))\n",
    "        temp2 = sum(sumPdivisors(temp))\n",
    "        if(i == temp2 and i != temp and i < temp):\n",
    "            print(i,temp)\n"
   ]
  },
  {
   "cell_type": "code",
   "execution_count": 283,
   "metadata": {},
   "outputs": [
    {
     "name": "stdout",
     "output_type": "stream",
     "text": [
      "220 284\n"
     ]
    }
   ],
   "source": [
    "amicable(300)"
   ]
  },
  {
   "cell_type": "markdown",
   "metadata": {},
   "source": [
    "### 12"
   ]
  },
  {
   "cell_type": "code",
   "execution_count": 324,
   "metadata": {},
   "outputs": [],
   "source": [
    "def odd(lst):\n",
    "    abc = filter(lambda x:x%2,lst)\n",
    "    return(list(abc))"
   ]
  },
  {
   "cell_type": "code",
   "execution_count": 325,
   "metadata": {},
   "outputs": [
    {
     "name": "stdout",
     "output_type": "stream",
     "text": [
      "[1, 3]\n"
     ]
    }
   ],
   "source": [
    "print(odd([1,2,3,4]))"
   ]
  },
  {
   "cell_type": "markdown",
   "metadata": {},
   "source": [
    "### 13"
   ]
  },
  {
   "cell_type": "code",
   "execution_count": 328,
   "metadata": {},
   "outputs": [],
   "source": [
    "def cube(lst):\n",
    "    abc = map(lambda x:x**3,lst)\n",
    "    return(list(abc))"
   ]
  },
  {
   "cell_type": "code",
   "execution_count": 330,
   "metadata": {},
   "outputs": [
    {
     "data": {
      "text/plain": [
       "[1, 8, 27, 64]"
      ]
     },
     "execution_count": 330,
     "metadata": {},
     "output_type": "execute_result"
    }
   ],
   "source": [
    "cube([1,2,3,4])"
   ]
  },
  {
   "cell_type": "markdown",
   "metadata": {},
   "source": [
    "### 14"
   ]
  },
  {
   "cell_type": "code",
   "execution_count": 335,
   "metadata": {},
   "outputs": [],
   "source": [
    "def evenCube(lst):\n",
    "    abc = map(lambda x:x**3,filter(lambda x:x%2==0,lst))\n",
    "    return(list(abc))"
   ]
  },
  {
   "cell_type": "code",
   "execution_count": 334,
   "metadata": {},
   "outputs": [
    {
     "data": {
      "text/plain": [
       "[8, 64]"
      ]
     },
     "execution_count": 334,
     "metadata": {},
     "output_type": "execute_result"
    }
   ],
   "source": [
    "evenCube([1,2,3,4])"
   ]
  },
  {
   "cell_type": "code",
   "execution_count": null,
   "metadata": {},
   "outputs": [],
   "source": []
  }
 ],
 "metadata": {
  "kernelspec": {
   "display_name": "Python 3",
   "language": "python",
   "name": "python3"
  },
  "language_info": {
   "codemirror_mode": {
    "name": "ipython",
    "version": 3
   },
   "file_extension": ".py",
   "mimetype": "text/x-python",
   "name": "python",
   "nbconvert_exporter": "python",
   "pygments_lexer": "ipython3",
   "version": "3.6.5"
  }
 },
 "nbformat": 4,
 "nbformat_minor": 2
}
